{
 "cells": [
  {
   "cell_type": "markdown",
   "id": "assured-hazard",
   "metadata": {},
   "source": [
    "# PART A\n",
    "\n",
    "### *CONFIGURATION*"
   ]
  },
  {
   "cell_type": "code",
   "execution_count": 1,
   "id": "meaningful-quarterly",
   "metadata": {},
   "outputs": [],
   "source": [
    "from pyspark.sql import SparkSession\n",
    "\n",
    "spark_session = SparkSession\\\n",
    "        .builder\\\n",
    "        .master(\"spark://192.168.2.113:7077\") \\\n",
    "        .appName(\"EricJonsson_A\")\\\n",
    "        .config(\"spark.dynamicAllocation.enabled\", True)\\\n",
    "        .config(\"spark.shuffle.service.enabled\", True)\\\n",
    "        .config(\"spark.dynamicAllocation.executorIdleTimeout\",\"30s\")\\\n",
    "        .config(\"spark.executor.cores\",2)\\\n",
    "        .config(\"spark.driver.port\",9998)\\\n",
    "        .config(\"spark.blockManager.port\",10005)\\\n",
    "        .getOrCreate()\n"
   ]
  },
  {
   "cell_type": "code",
   "execution_count": 2,
   "id": "exposed-rally",
   "metadata": {},
   "outputs": [],
   "source": [
    "spark_context = spark_session.sparkContext"
   ]
  },
  {
   "cell_type": "markdown",
   "id": "demonstrated-locking",
   "metadata": {},
   "source": [
    "### *Questions A.1*\n",
    "Note: I cleaned up all prints and verification steps which were not specifically requested and merged some steps into single code boxes. "
   ]
  },
  {
   "cell_type": "code",
   "execution_count": 9,
   "id": "abandoned-poetry",
   "metadata": {},
   "outputs": [
    {
     "name": "stdout",
     "output_type": "stream",
     "text": [
      "Total Number of Lines: \n",
      "English Transcript:  1862234 \n",
      "Swedish Transcript:  1862234\n",
      "\n",
      "Partitions: \n",
      "English Transcript:  2 \n",
      "Swedish Transcript:  3\n"
     ]
    }
   ],
   "source": [
    "# 1.1 & 1.2 & 1.3\n",
    "\n",
    "textfile_eng = spark_context.textFile(\"hdfs://192.168.2.113:9000/europarl/europarl-v7.sv-en.en\")\n",
    "textfile_swe = spark_context.textFile(\"hdfs://192.168.2.113:9000/europarl/europarl-v7.sv-en.sv\")\n",
    "\n",
    "print('Total Number of Lines: \\nEnglish Transcript: ', textfile_eng.count(), '\\nSwedish Transcript: ', textfile_swe.count())\n",
    "print('\\nPartitions: \\nEnglish Transcript: ', textfile_eng.getNumPartitions(), '\\nSwedish Transcript: ', textfile_swe.getNumPartitions() )"
   ]
  },
  {
   "cell_type": "code",
   "execution_count": 7,
   "id": "growing-bracelet",
   "metadata": {},
   "outputs": [
    {
     "data": {
      "text/plain": [
       "['Återupptagande av sessionen',\n",
       " 'Jag förklarar Europaparlamentets session återupptagen efter avbrottet den 17 december. Jag vill på nytt önska er ett gott nytt år och jag hoppas att ni haft en trevlig semester.']"
      ]
     },
     "execution_count": 7,
     "metadata": {},
     "output_type": "execute_result"
    }
   ],
   "source": [
    "#textfile_swe.take(2)"
   ]
  },
  {
   "cell_type": "code",
   "execution_count": 6,
   "id": "expensive-savage",
   "metadata": {},
   "outputs": [
    {
     "name": "stdout",
     "output_type": "stream",
     "text": [
      "Total Number of Lines: \n",
      "English Transcript:  1862234 \n",
      "Swedish Transcript:  1862234\n"
     ]
    }
   ],
   "source": [
    "#print('Total Number of Lines: \\nEnglish Transcript: ', textfile_eng.count(), '\\nSwedish Transcript: ', textfile_swe.count())\n",
    "#print('Partitions: \\nEnglish Transcript: ', textfile_eng.getNumPartitions(), '\\nSwedish Transcript: ', textfile_swe.getNumPartitions() )"
   ]
  },
  {
   "cell_type": "code",
   "execution_count": null,
   "id": "solid-salmon",
   "metadata": {},
   "outputs": [],
   "source": [
    "# Split each line into lists\n",
    "\n",
    "#lines_eng = textfile_eng.map(lambda line: line.split('\\n'))\n",
    "#lines_swe = textfile_swe.map(lambda line: line.split('\\n'))"
   ]
  },
  {
   "cell_type": "code",
   "execution_count": null,
   "id": "invalid-smile",
   "metadata": {},
   "outputs": [],
   "source": [
    "#lines_swe.take(10)"
   ]
  },
  {
   "cell_type": "code",
   "execution_count": null,
   "id": "planned-scientist",
   "metadata": {},
   "outputs": [],
   "source": [
    "# Each line is separated into lists, count the number of lists to get number of lines\n",
    "\n",
    "#lineno_eng = lines_eng.map(lambda s: len(s))\n",
    "#total_eng = lineno_eng.reduce(lambda a, b: a+b)\n",
    "#lineno_swe = lines_swe.map(lambda s: len(s))\n",
    "#total_swe = lineno_swe.reduce(lambda a, b: a+b)\n",
    "\n",
    "#print('Total Number of Lines: \\nEnglish Transcript: ', total_eng, '\\nSwedish Transcript: ', total_swe)"
   ]
  },
  {
   "cell_type": "code",
   "execution_count": null,
   "id": "bridal-mongolia",
   "metadata": {},
   "outputs": [],
   "source": [
    "# 1.4\n",
    "#partitions_eng = textfile_eng.getNumPartitions()\n",
    "#partitions_swe = textfile_swe.getNumPartitions()\n",
    "\n",
    "#print('Partitions: \\nEnglish Transcript: ', partitions_eng, '\\nSwedish Transcript: ', partitions_swe )"
   ]
  },
  {
   "cell_type": "markdown",
   "id": "operating-channels",
   "metadata": {},
   "source": [
    "### Questions A.2"
   ]
  },
  {
   "cell_type": "code",
   "execution_count": 15,
   "id": "blond-banks",
   "metadata": {},
   "outputs": [
    {
     "name": "stdout",
     "output_type": "stream",
     "text": [
      "English: \n",
      " [['resumption', 'of', 'the', 'session'], ['i', 'declare', 'resumed', 'the', 'session', 'of', 'the', 'european', 'parliament', 'adjourned', 'on', 'friday', '17', 'december', '1999,', 'and', 'i', 'would', 'like', 'once', 'again', 'to', 'wish', 'you', 'a', 'happy', 'new', 'year', 'in', 'the', 'hope', 'that', 'you', 'enjoyed', 'a', 'pleasant', 'festive', 'period.'], ['although,', 'as', 'you', 'will', 'have', 'seen,', 'the', 'dreaded', \"'millennium\", \"bug'\", 'failed', 'to', 'materialise,', 'still', 'the', 'people', 'in', 'a', 'number', 'of', 'countries', 'suffered', 'a', 'series', 'of', 'natural', 'disasters', 'that', 'truly', 'were', 'dreadful.'], ['you', 'have', 'requested', 'a', 'debate', 'on', 'this', 'subject', 'in', 'the', 'course', 'of', 'the', 'next', 'few', 'days,', 'during', 'this', 'part-session.'], ['in', 'the', 'meantime,', 'i', 'should', 'like', 'to', 'observe', 'a', \"minute'\", 's', 'silence,', 'as', 'a', 'number', 'of', 'members', 'have', 'requested,', 'on', 'behalf', 'of', 'all', 'the', 'victims', 'concerned,', 'particularly', 'those', 'of', 'the', 'terrible', 'storms,', 'in', 'the', 'various', 'countries', 'of', 'the', 'european', 'union.'], ['please', 'rise,', 'then,', 'for', 'this', \"minute'\", 's', 'silence.'], ['(the', 'house', 'rose', 'and', 'observed', 'a', \"minute'\", 's', 'silence)'], ['madam', 'president,', 'on', 'a', 'point', 'of', 'order.'], ['you', 'will', 'be', 'aware', 'from', 'the', 'press', 'and', 'television', 'that', 'there', 'have', 'been', 'a', 'number', 'of', 'bomb', 'explosions', 'and', 'killings', 'in', 'sri', 'lanka.'], ['one', 'of', 'the', 'people', 'assassinated', 'very', 'recently', 'in', 'sri', 'lanka', 'was', 'mr', 'kumar', 'ponnambalam,', 'who', 'had', 'visited', 'the', 'european', 'parliament', 'just', 'a', 'few', 'months', 'ago.']]\n",
      "\n",
      "Swedish: \n",
      " [['återupptagande', 'av', 'sessionen'], ['jag', 'förklarar', 'europaparlamentets', 'session', 'återupptagen', 'efter', 'avbrottet', 'den', '17', 'december.', 'jag', 'vill', 'på', 'nytt', 'önska', 'er', 'ett', 'gott', 'nytt', 'år', 'och', 'jag', 'hoppas', 'att', 'ni', 'haft', 'en', 'trevlig', 'semester.'], ['som', 'ni', 'kunnat', 'konstatera', 'ägde', '\"den', 'stora', 'år', '2000-buggen\"', 'aldrig', 'rum.', 'däremot', 'har', 'invånarna', 'i', 'ett', 'antal', 'av', 'våra', 'medlemsländer', 'drabbats', 'av', 'naturkatastrofer', 'som', 'verkligen', 'varit', 'förskräckliga.'], ['ni', 'har', 'begärt', 'en', 'debatt', 'i', 'ämnet', 'under', 'sammanträdesperiodens', 'kommande', 'dagar.'], ['till', 'dess', 'vill', 'jag', 'att', 'vi,', 'som', 'ett', 'antal', 'kolleger', 'begärt,', 'håller', 'en', 'tyst', 'minut', 'för', 'offren', 'för', 'bl.a.', 'stormarna', 'i', 'de', 'länder', 'i', 'europeiska', 'unionen', 'som', 'drabbats.'], ['jag', 'ber', 'er', 'resa', 'er', 'för', 'en', 'tyst', 'minut.'], ['(parlamentet', 'höll', 'en', 'tyst', 'minut.)'], ['fru', 'talman!', 'det', 'gäller', 'en', 'ordningsfråga.'], ['ni', 'känner', 'till', 'från', 'media', 'att', 'det', 'skett', 'en', 'rad', 'bombexplosioner', 'och', 'mord', 'i', 'sri', 'lanka.'], ['en', 'av', 'de', 'personer', 'som', 'mycket', 'nyligen', 'mördades', 'i', 'sri', 'lanka', 'var', 'kumar', 'ponnambalam,', 'som', 'besökte', 'europaparlamentet', 'för', 'bara', 'några', 'månader', 'sedan.']]\n",
      "\n",
      "Total Number of Lines: \n",
      "English Transcript:  1862234 \n",
      "Swedish Transcript:  1862234\n"
     ]
    }
   ],
   "source": [
    "# 2.1, 2.2, 2.3\n",
    "\n",
    "# Function to preprocess\n",
    "def pre_process(rdd):\n",
    "    # Lowercase\n",
    "    lowercase_rdd = rdd.map(lambda x: x.lower())\n",
    "    # Split on space\n",
    "    return lowercase_rdd.map(lambda x: x.split(' '))\n",
    "\n",
    "# Apply Function to english and swedish RDD\n",
    "preprocessed_eng = pre_process(textfile_eng.map(lambda x: x.lower()))\n",
    "preprocessed_swe = pre_process(textfile_swe.map(lambda x: x.lower()))\n",
    "\n",
    "# Print 10 lines from each, and the total number of lines for each text. \n",
    "print(\"English: \\n\", preprocessed_eng.take(10))\n",
    "print(\"\\nSwedish: \\n\", preprocessed_swe.take(10))\n",
    "print('\\nTotal Number of Lines: \\nEnglish Transcript: ', preprocessed_eng.count(), '\\nSwedish Transcript: ', preprocessed_swe.count())"
   ]
  },
  {
   "cell_type": "code",
   "execution_count": null,
   "id": "funded-humor",
   "metadata": {},
   "outputs": [],
   "source": [
    "# 2.1\n",
    "\n",
    "#def pre_process(rdd):\n",
    "    # Lowercase\n",
    "#    lowercase_rdd = rdd.map(lambda x: x.lower())\n",
    "    # Split on space\n",
    "#    output = lowercase_rdd.map(lambda x: x.split(' '))\n",
    "\n",
    "# To lowercase\n",
    "#lower_eng = textfile_eng.map(lambda x: x.lower())\n",
    "#lower_swe = textfile_swe.map(lambda x: x.lower())"
   ]
  },
  {
   "cell_type": "code",
   "execution_count": null,
   "id": "light-element",
   "metadata": {},
   "outputs": [],
   "source": [
    "#print(\"English: \\n\")\n",
    "#print(lower_eng.take(10))\n",
    "#print('\\n')\n",
    "#print(\"Swedish: \\n\")\n",
    "#print(lower_swe.take(10))"
   ]
  },
  {
   "cell_type": "code",
   "execution_count": null,
   "id": "built-exercise",
   "metadata": {},
   "outputs": [],
   "source": [
    "# Flatten and split on space\n",
    "#lower_split_eng = lower_eng.map(lambda x: x.split(' '))\n",
    "#lower_split_swe = lower_swe.map(lambda x: x.split(' '))"
   ]
  },
  {
   "cell_type": "code",
   "execution_count": null,
   "id": "authentic-namibia",
   "metadata": {},
   "outputs": [],
   "source": [
    "#print(\"English: \", lower_split_eng.take(10))\n",
    "#print(\"Swedish: \", lower_split_swe.take(10))"
   ]
  },
  {
   "cell_type": "code",
   "execution_count": null,
   "id": "regulation-coffee",
   "metadata": {},
   "outputs": [],
   "source": [
    "#print('Total Number of Lines: \\nEnglish Transcript: ', lower_split_eng.count(), '\\nSwedish Transcript: ', lower_split_swe.count())"
   ]
  },
  {
   "cell_type": "markdown",
   "id": "powered-worship",
   "metadata": {},
   "source": [
    "### Questions A.3"
   ]
  },
  {
   "cell_type": "code",
   "execution_count": 24,
   "id": "adjacent-bhutan",
   "metadata": {},
   "outputs": [
    {
     "name": "stdout",
     "output_type": "stream",
     "text": [
      "10 Most Common Words: English\n",
      "[('the', 235844), ('i', 201870), ('we', 129603), ('it', 105177), ('in', 91596), ('this', 82526), ('mr', 56025), ('that', 36863), ('as', 33289), ('\\xa0\\xa0', 30200)] \n",
      "\n",
      "10 Most Common Words: Swedish\n",
      "[('jag', 207086), ('det', 198923), ('vi', 133076), ('i', 66383), ('detta', 51184), ('för', 48686), ('herr', 46659), ('den', 43543), ('de', 34602), ('men', 30438)]\n"
     ]
    }
   ],
   "source": [
    "# 3.1, 3.2\n",
    "\n",
    "from operator import add\n",
    "\n",
    "def wordcountMap(line):\n",
    "    for word in line:\n",
    "        return (word, 1)\n",
    "\n",
    "# MAP\n",
    "wordcount_mapstage_eng = preprocessed_eng.map(wordcountMap)\n",
    "wordcount_mapstage_swe = preprocessed_swe.map(wordcountMap)\n",
    "# REDUCE\n",
    "wordcount_eng = wordcount_mapstage_eng.reduceByKey(add)\n",
    "wordcount_swe = wordcount_mapstage_swe.reduceByKey(add)\n",
    "# SORT IN DESCENDING ORDER\n",
    "wordcount_eng_sorted = wordcount_eng.sortBy(ascending = False, keyfunc = lambda el: el[1]).take(10)\n",
    "wordcount_swe_sorted = wordcount_swe.sortBy(ascending = False, keyfunc = lambda el: el[1]).take(10)\n",
    "\n",
    "# PRINT\n",
    "print(\"10 Most Common Words: English\")\n",
    "print(wordcount_eng_sorted, '\\n')\n",
    "print(\"10 Most Common Words: Swedish\")\n",
    "print(wordcount_swe_sorted)"
   ]
  },
  {
   "cell_type": "code",
   "execution_count": null,
   "id": "sustainable-entity",
   "metadata": {},
   "outputs": [],
   "source": [
    "# 3.1, 3.2\n",
    "\n",
    "#from operator import add\n",
    "#def wordcountMap(line):\n",
    "#    for word in line:\n",
    "#        return (word, 1)\n",
    "\n",
    "#wordcount_mapstage_eng = lower_split_eng.map(wordcountMap)\n",
    "#wordcount_mapstage_swe = lower_split_swe.map(wordcountMap)\n",
    "#print(all_words_and_count.take(10))"
   ]
  },
  {
   "cell_type": "code",
   "execution_count": null,
   "id": "contemporary-nightmare",
   "metadata": {},
   "outputs": [],
   "source": [
    "#wordcount_eng = wordcount_mapstage_eng.reduceByKey(add)\n",
    "#wordcount_eng.take(10)\n",
    "\n",
    "#wordcount_swe = wordcount_mapstage_swe.reduceByKey(add)\n",
    "#wordcount_swe.take(10)"
   ]
  },
  {
   "cell_type": "code",
   "execution_count": null,
   "id": "approximate-natural",
   "metadata": {},
   "outputs": [],
   "source": [
    "#wordcount_eng_sorted = wordcount_eng.sortBy(ascending = False, keyfunc = lambda el: el[1]).take(10)\n",
    "#print(\"10 Most Common Words: English\")\n",
    "#print(wordcount_eng_sorted, '\\n')\n",
    "\n",
    "#wordcount_swe_sorted = wordcount_swe.sortBy(ascending = False, keyfunc = lambda el: el[1]).take(10)\n",
    "#print(\"10 Most Common Words: Swedish\")\n",
    "#print(wordcount_swe_sorted)\n"
   ]
  },
  {
   "cell_type": "markdown",
   "id": "noble-master",
   "metadata": {},
   "source": [
    "### Questions A.4"
   ]
  },
  {
   "cell_type": "code",
   "execution_count": 27,
   "id": "headed-innocent",
   "metadata": {},
   "outputs": [
    {
     "name": "stdout",
     "output_type": "stream",
     "text": [
      "10 Most Common Translations: \n",
      "[(('the', 'jag'), 1324), (('the', 'debatten'), 1186), (('written', 'skriftliga'), 847), (('that', 'det'), 787), (('i', 'jag'), 611), (('we', 'vi'), 533), (('this', 'detta'), 482), (('it', 'det'), 453), (('applause', 'applåder'), 429), (('this', 'det'), 321)]\n"
     ]
    }
   ],
   "source": [
    "# 4.1, 4.2\n",
    "rdd_eng_1 = preprocessed_eng.zipWithIndex().map(lambda keyval: (keyval[1], keyval[0]))\n",
    "rdd_swe_1 = preprocessed_swe.zipWithIndex().map(lambda keyval: (keyval[1], keyval[0]))\n",
    "# 4.3\n",
    "rdd_combined_1 = rdd_eng_1.join(rdd_swe_1)\n",
    "\n",
    "# Function to check if both strings are exclusively alphanumeric\n",
    "def alphanumericCheck(line):\n",
    "    alpha = False\n",
    "    for word in line[1][0]:\n",
    "        if word.isalpha():\n",
    "            alpha = True    \n",
    "    for word in line[1][1]:\n",
    "        if word.isalpha():\n",
    "            alpha = True\n",
    "    return alpha\n",
    "\n",
    "# Apply all filters \n",
    "#         (Checks: Must contain a matching line, Lines contain less than 5 words, \n",
    "#          Both are non-empty, No empty words, must be alphanumeric, same number of words in both lines)\n",
    "rdd_combined_2 = rdd_combined_1\\\n",
    "                .filter(lambda line: len(line[1]) == 2)\\\n",
    "                .filter(lambda line: len(line[1][0]) < 5)\\\n",
    "                .filter(lambda line: len(line[1][0]) != 0)\\\n",
    "                .filter(lambda line: len(line[1][1]) != 0)\\\n",
    "                .filter(lambda line: len(line[1][0][0]) != 0)\\\n",
    "                .filter(lambda line: len(line[1][1][0]) != 0)\\\n",
    "                .filter(lambda line: alphanumericCheck(line))\\\n",
    "                .filter(lambda line: len(line[1][0]) == len(line[1][1]))\n",
    "rdd_combined_2.take(10)\n",
    "\n",
    "rdd_combined_3 = rdd_combined_2.map(lambda pair: list(zip(pair[1][0],pair[1][1]))[0]).map(lambda x: ((x[0],x[1]),1))\n",
    "#rdd_combined_3.sortByKey().take(10)\n",
    "\n",
    "rdd_combined_count = rdd_combined_3.reduceByKey(add)\n",
    "#rdd_combined_count.take(10)\n",
    "rdd_combined_count_sorted = rdd_combined_count.sortBy(ascending = False, keyfunc = lambda el: el[1])\n",
    "print(\"10 Most Common Translations: \")\n",
    "print(rdd_combined_count_sorted.take(10))"
   ]
  },
  {
   "cell_type": "code",
   "execution_count": null,
   "id": "solved-yesterday",
   "metadata": {},
   "outputs": [],
   "source": [
    "#rdd_eng_1 = lower_split_eng.zipWithIndex().map(lambda keyval: (keyval[1], keyval[0]))\n",
    "#rdd_swe_1 = lower_split_swe.zipWithIndex().map(lambda keyval: (keyval[1], keyval[0]))\n",
    "#rdd_eng_1.take(2)"
   ]
  },
  {
   "cell_type": "code",
   "execution_count": null,
   "id": "devoted-sustainability",
   "metadata": {},
   "outputs": [],
   "source": [
    "#rdd_combined_1 = rdd_eng_1.join(rdd_swe_1)"
   ]
  },
  {
   "cell_type": "code",
   "execution_count": null,
   "id": "white-vegetable",
   "metadata": {},
   "outputs": [],
   "source": [
    "#rdd_combined_1.sortByKey().take(1)"
   ]
  },
  {
   "cell_type": "code",
   "execution_count": null,
   "id": "civilian-consultancy",
   "metadata": {},
   "outputs": [],
   "source": [
    "#def alphanumericCheck(line):\n",
    "#    alpha = False\n",
    "#    for word in line[1][0]:\n",
    "#        if word.isalpha():\n",
    "#            alpha = True    \n",
    "#    for word in line[1][1]:\n",
    "#        if word.isalpha():\n",
    "#            alpha = True\n",
    "#    return alpha\n",
    "#        \n",
    "\n",
    "#rdd_combined_2 = rdd_combined_1\\\n",
    "#                .filter(lambda line: len(line[1]) == 2)\\\n",
    "#                .filter(lambda line: len(line[1][0]) < 5)\\\n",
    "#                .filter(lambda line: len(line[1][0]) != 0)\\\n",
    "#                .filter(lambda line: len(line[1][1]) != 0)\\\n",
    "#                .filter(lambda line: len(line[1][0][0]) != 0)\\\n",
    "#                .filter(lambda line: len(line[1][1][0]) != 0)\\\n",
    "#                .filter(lambda line: alphanumericCheck(line))\\\n",
    "#                .filter(lambda line: len(line[1][0]) == len(line[1][1]))\n",
    "#rdd_combined_2.take(10)"
   ]
  },
  {
   "cell_type": "code",
   "execution_count": null,
   "id": "changed-optimum",
   "metadata": {},
   "outputs": [],
   "source": [
    "#rdd_combined_3 = rdd_combined_2.map(lambda pair: list(zip(pair[1][0],pair[1][1]))[0]).map(lambda x: ((x[0],x[1]),1))\n",
    "#rdd_combined_3.sortByKey().take(10)\n",
    "#rdd_combined_count = rdd_combined_3.reduceByKey(add)\n",
    "#rdd_combined_count.take(10)\n",
    "#rdd_combined_count_sorted = rdd_combined_count.sortBy(ascending = False, keyfunc = lambda el: el[1]).take(10)\n",
    "#print(\"10 Most Common Translations: \")\n",
    "#print(rdd_combined_count_sorted)\n"
   ]
  },
  {
   "cell_type": "code",
   "execution_count": null,
   "id": "bigger-lucas",
   "metadata": {},
   "outputs": [],
   "source": [
    "#rdd_combined_count = rdd_combined_3.reduceByKey(add)\n",
    "#rdd_combined_count.take(10)"
   ]
  },
  {
   "cell_type": "code",
   "execution_count": null,
   "id": "eligible-depth",
   "metadata": {},
   "outputs": [],
   "source": [
    "#rdd_combined_count_sorted = rdd_combined_count.sortBy(ascending = False, keyfunc = lambda el: el[1]).take(10)\n",
    "#print(\"10 Most Common Translations: \")\n",
    "#print(rdd_combined_count_sorted)\n"
   ]
  }
 ],
 "metadata": {
  "kernelspec": {
   "display_name": "Python 3",
   "language": "python",
   "name": "python3"
  },
  "language_info": {
   "codemirror_mode": {
    "name": "ipython",
    "version": 3
   },
   "file_extension": ".py",
   "mimetype": "text/x-python",
   "name": "python",
   "nbconvert_exporter": "python",
   "pygments_lexer": "ipython3",
   "version": "3.8.5"
  }
 },
 "nbformat": 4,
 "nbformat_minor": 5
}
