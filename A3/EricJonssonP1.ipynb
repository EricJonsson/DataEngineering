{
 "cells": [
  {
   "cell_type": "markdown",
   "id": "flush-gateway",
   "metadata": {},
   "source": [
    "Preamble"
   ]
  },
  {
   "cell_type": "code",
   "execution_count": 1,
   "id": "decreased-toronto",
   "metadata": {},
   "outputs": [],
   "source": [
    "from pyspark.sql import SparkSession\n",
    "\n",
    "spark_session = SparkSession\\\n",
    "        .builder\\\n",
    "        .master(\"spark://192.168.2.113:7077\") \\\n",
    "        .appName(\"eric_jonsson_p1\")\\\n",
    "        .config(\"spark.dynamicAllocation.enabled\", True)\\\n",
    "        .config(\"spark.shuffle.service.enabled\", True)\\\n",
    "        .config(\"spark.dynamicAllocation.executorIdleTimeout\",\"30s\")\\\n",
    "        .config(\"spark.executor.cores\",2)\\\n",
    "        .config(\"spark.driver.port\",9998)\\\n",
    "        .config(\"spark.blockManager.port\",10005)\\\n",
    "        .getOrCreate()\n"
   ]
  },
  {
   "cell_type": "code",
   "execution_count": 2,
   "id": "integral-vacation",
   "metadata": {},
   "outputs": [],
   "source": [
    "spark_context = spark_session.sparkContext"
   ]
  },
  {
   "cell_type": "markdown",
   "id": "right-consolidation",
   "metadata": {},
   "source": [
    "Questions A.1"
   ]
  },
  {
   "cell_type": "code",
   "execution_count": 3,
   "id": "administrative-corpus",
   "metadata": {},
   "outputs": [
    {
     "name": "stdout",
     "output_type": "stream",
     "text": [
      "Återupptagande av sessionen\n"
     ]
    }
   ],
   "source": [
    "# 1.1\n",
    "\n",
    "textfile_eng = spark_context.textFile(\"hdfs://192.168.2.113:9000/europarl/europarl-v7.sv-en.en\")\n",
    "textfile_swe = spark_context.textFile(\"hdfs://192.168.2.113:9000/europarl/europarl-v7.sv-en.sv\")\n",
    "print(textfile_swe.first())"
   ]
  },
  {
   "cell_type": "code",
   "execution_count": 4,
   "id": "changed-material",
   "metadata": {},
   "outputs": [
    {
     "data": {
      "text/plain": [
       "['Återupptagande av sessionen',\n",
       " 'Jag förklarar Europaparlamentets session återupptagen efter avbrottet den 17 december. Jag vill på nytt önska er ett gott nytt år och jag hoppas att ni haft en trevlig semester.',\n",
       " 'Som ni kunnat konstatera ägde \"den stora år 2000-buggen\" aldrig rum. Däremot har invånarna i ett antal av våra medlemsländer drabbats av naturkatastrofer som verkligen varit förskräckliga.',\n",
       " 'Ni har begärt en debatt i ämnet under sammanträdesperiodens kommande dagar.',\n",
       " 'Till dess vill jag att vi, som ett antal kolleger begärt, håller en tyst minut för offren för bl.a. stormarna i de länder i Europeiska unionen som drabbats.',\n",
       " 'Jag ber er resa er för en tyst minut.',\n",
       " '(Parlamentet höll en tyst minut.)',\n",
       " 'Fru talman! Det gäller en ordningsfråga.',\n",
       " 'Ni känner till från media att det skett en rad bombexplosioner och mord i Sri Lanka.',\n",
       " 'En av de personer som mycket nyligen mördades i Sri Lanka var Kumar Ponnambalam, som besökte Europaparlamentet för bara några månader sedan.']"
      ]
     },
     "execution_count": 4,
     "metadata": {},
     "output_type": "execute_result"
    }
   ],
   "source": [
    "textfile_swe.take(10)"
   ]
  },
  {
   "cell_type": "code",
   "execution_count": 5,
   "id": "inside-greeting",
   "metadata": {},
   "outputs": [],
   "source": [
    "# Split each line into lists\n",
    "\n",
    "lines_eng = textfile_eng.map(lambda line: line.split('\\n'))\n",
    "lines_swe = textfile_swe.map(lambda line: line.split('\\n'))"
   ]
  },
  {
   "cell_type": "code",
   "execution_count": 6,
   "id": "republican-adventure",
   "metadata": {},
   "outputs": [
    {
     "data": {
      "text/plain": [
       "[['Återupptagande av sessionen'],\n",
       " ['Jag förklarar Europaparlamentets session återupptagen efter avbrottet den 17 december. Jag vill på nytt önska er ett gott nytt år och jag hoppas att ni haft en trevlig semester.'],\n",
       " ['Som ni kunnat konstatera ägde \"den stora år 2000-buggen\" aldrig rum. Däremot har invånarna i ett antal av våra medlemsländer drabbats av naturkatastrofer som verkligen varit förskräckliga.'],\n",
       " ['Ni har begärt en debatt i ämnet under sammanträdesperiodens kommande dagar.'],\n",
       " ['Till dess vill jag att vi, som ett antal kolleger begärt, håller en tyst minut för offren för bl.a. stormarna i de länder i Europeiska unionen som drabbats.'],\n",
       " ['Jag ber er resa er för en tyst minut.'],\n",
       " ['(Parlamentet höll en tyst minut.)'],\n",
       " ['Fru talman! Det gäller en ordningsfråga.'],\n",
       " ['Ni känner till från media att det skett en rad bombexplosioner och mord i Sri Lanka.'],\n",
       " ['En av de personer som mycket nyligen mördades i Sri Lanka var Kumar Ponnambalam, som besökte Europaparlamentet för bara några månader sedan.']]"
      ]
     },
     "execution_count": 6,
     "metadata": {},
     "output_type": "execute_result"
    }
   ],
   "source": [
    "lines_swe.take(10)"
   ]
  },
  {
   "cell_type": "code",
   "execution_count": 7,
   "id": "unnecessary-ghost",
   "metadata": {},
   "outputs": [
    {
     "name": "stdout",
     "output_type": "stream",
     "text": [
      "Total Number of Lines: \n",
      "English Transcript:  1862234 \n",
      "Swedish Transcript:  1862234\n"
     ]
    }
   ],
   "source": [
    "# Each line is separated into lists, count the number of lists to get number of lines\n",
    "\n",
    "lineno_eng = lines_eng.map(lambda s: len(s))\n",
    "total_eng = lineno_eng.reduce(lambda a, b: a+b)\n",
    "lineno_swe = lines_swe.map(lambda s: len(s))\n",
    "total_swe = lineno_swe.reduce(lambda a, b: a+b)\n",
    "\n",
    "print('Total Number of Lines: \\nEnglish Transcript: ', total_eng, '\\nSwedish Transcript: ', total_swe)"
   ]
  },
  {
   "cell_type": "code",
   "execution_count": 8,
   "id": "public-racing",
   "metadata": {},
   "outputs": [
    {
     "name": "stdout",
     "output_type": "stream",
     "text": [
      "Partitions: \n",
      "English Transcript:  2 \n",
      "Swedish Transcript:  3\n"
     ]
    }
   ],
   "source": [
    "# 1.4\n",
    "partitions_eng = textfile_eng.getNumPartitions()\n",
    "partitions_swe = textfile_swe.getNumPartitions()\n",
    "\n",
    "print('Partitions: \\nEnglish Transcript: ', partitions_eng, '\\nSwedish Transcript: ', partitions_swe )"
   ]
  },
  {
   "cell_type": "markdown",
   "id": "satellite-campus",
   "metadata": {},
   "source": [
    "Questions A.2"
   ]
  },
  {
   "cell_type": "code",
   "execution_count": 9,
   "id": "little-testimony",
   "metadata": {},
   "outputs": [],
   "source": [
    "# 2.1\n",
    "\n",
    "# To lowercase\n",
    "lower_eng = textfile_eng.map(lambda x: x.lower())\n",
    "lower_swe = textfile_swe.map(lambda x: x.lower())"
   ]
  },
  {
   "cell_type": "code",
   "execution_count": 10,
   "id": "digital-claim",
   "metadata": {},
   "outputs": [
    {
     "name": "stdout",
     "output_type": "stream",
     "text": [
      "English: \n",
      "\n",
      "['resumption of the session', 'i declare resumed the session of the european parliament adjourned on friday 17 december 1999, and i would like once again to wish you a happy new year in the hope that you enjoyed a pleasant festive period.', \"although, as you will have seen, the dreaded 'millennium bug' failed to materialise, still the people in a number of countries suffered a series of natural disasters that truly were dreadful.\", 'you have requested a debate on this subject in the course of the next few days, during this part-session.', \"in the meantime, i should like to observe a minute' s silence, as a number of members have requested, on behalf of all the victims concerned, particularly those of the terrible storms, in the various countries of the european union.\", \"please rise, then, for this minute' s silence.\", \"(the house rose and observed a minute' s silence)\", 'madam president, on a point of order.', 'you will be aware from the press and television that there have been a number of bomb explosions and killings in sri lanka.', 'one of the people assassinated very recently in sri lanka was mr kumar ponnambalam, who had visited the european parliament just a few months ago.']\n",
      "\n",
      "\n",
      "Swedish: \n",
      "\n",
      "['återupptagande av sessionen', 'jag förklarar europaparlamentets session återupptagen efter avbrottet den 17 december. jag vill på nytt önska er ett gott nytt år och jag hoppas att ni haft en trevlig semester.', 'som ni kunnat konstatera ägde \"den stora år 2000-buggen\" aldrig rum. däremot har invånarna i ett antal av våra medlemsländer drabbats av naturkatastrofer som verkligen varit förskräckliga.', 'ni har begärt en debatt i ämnet under sammanträdesperiodens kommande dagar.', 'till dess vill jag att vi, som ett antal kolleger begärt, håller en tyst minut för offren för bl.a. stormarna i de länder i europeiska unionen som drabbats.', 'jag ber er resa er för en tyst minut.', '(parlamentet höll en tyst minut.)', 'fru talman! det gäller en ordningsfråga.', 'ni känner till från media att det skett en rad bombexplosioner och mord i sri lanka.', 'en av de personer som mycket nyligen mördades i sri lanka var kumar ponnambalam, som besökte europaparlamentet för bara några månader sedan.']\n"
     ]
    }
   ],
   "source": [
    "print(\"English: \\n\")\n",
    "print(lower_eng.take(10))\n",
    "print('\\n')\n",
    "print(\"Swedish: \\n\")\n",
    "print(lower_swe.take(10))"
   ]
  },
  {
   "cell_type": "code",
   "execution_count": 11,
   "id": "particular-intervention",
   "metadata": {},
   "outputs": [],
   "source": [
    "# Flatten and split on space\n",
    "lower_split_eng = lower_eng.map(lambda x: x.split(' '))\n",
    "lower_split_swe = lower_swe.map(lambda x: x.split(' '))"
   ]
  },
  {
   "cell_type": "code",
   "execution_count": 12,
   "id": "bottom-thickness",
   "metadata": {},
   "outputs": [
    {
     "name": "stdout",
     "output_type": "stream",
     "text": [
      "English:  [['resumption', 'of', 'the', 'session'], ['i', 'declare', 'resumed', 'the', 'session', 'of', 'the', 'european', 'parliament', 'adjourned', 'on', 'friday', '17', 'december', '1999,', 'and', 'i', 'would', 'like', 'once', 'again', 'to', 'wish', 'you', 'a', 'happy', 'new', 'year', 'in', 'the', 'hope', 'that', 'you', 'enjoyed', 'a', 'pleasant', 'festive', 'period.'], ['although,', 'as', 'you', 'will', 'have', 'seen,', 'the', 'dreaded', \"'millennium\", \"bug'\", 'failed', 'to', 'materialise,', 'still', 'the', 'people', 'in', 'a', 'number', 'of', 'countries', 'suffered', 'a', 'series', 'of', 'natural', 'disasters', 'that', 'truly', 'were', 'dreadful.'], ['you', 'have', 'requested', 'a', 'debate', 'on', 'this', 'subject', 'in', 'the', 'course', 'of', 'the', 'next', 'few', 'days,', 'during', 'this', 'part-session.'], ['in', 'the', 'meantime,', 'i', 'should', 'like', 'to', 'observe', 'a', \"minute'\", 's', 'silence,', 'as', 'a', 'number', 'of', 'members', 'have', 'requested,', 'on', 'behalf', 'of', 'all', 'the', 'victims', 'concerned,', 'particularly', 'those', 'of', 'the', 'terrible', 'storms,', 'in', 'the', 'various', 'countries', 'of', 'the', 'european', 'union.'], ['please', 'rise,', 'then,', 'for', 'this', \"minute'\", 's', 'silence.'], ['(the', 'house', 'rose', 'and', 'observed', 'a', \"minute'\", 's', 'silence)'], ['madam', 'president,', 'on', 'a', 'point', 'of', 'order.'], ['you', 'will', 'be', 'aware', 'from', 'the', 'press', 'and', 'television', 'that', 'there', 'have', 'been', 'a', 'number', 'of', 'bomb', 'explosions', 'and', 'killings', 'in', 'sri', 'lanka.'], ['one', 'of', 'the', 'people', 'assassinated', 'very', 'recently', 'in', 'sri', 'lanka', 'was', 'mr', 'kumar', 'ponnambalam,', 'who', 'had', 'visited', 'the', 'european', 'parliament', 'just', 'a', 'few', 'months', 'ago.']]\n",
      "Swedish:  [['återupptagande', 'av', 'sessionen'], ['jag', 'förklarar', 'europaparlamentets', 'session', 'återupptagen', 'efter', 'avbrottet', 'den', '17', 'december.', 'jag', 'vill', 'på', 'nytt', 'önska', 'er', 'ett', 'gott', 'nytt', 'år', 'och', 'jag', 'hoppas', 'att', 'ni', 'haft', 'en', 'trevlig', 'semester.'], ['som', 'ni', 'kunnat', 'konstatera', 'ägde', '\"den', 'stora', 'år', '2000-buggen\"', 'aldrig', 'rum.', 'däremot', 'har', 'invånarna', 'i', 'ett', 'antal', 'av', 'våra', 'medlemsländer', 'drabbats', 'av', 'naturkatastrofer', 'som', 'verkligen', 'varit', 'förskräckliga.'], ['ni', 'har', 'begärt', 'en', 'debatt', 'i', 'ämnet', 'under', 'sammanträdesperiodens', 'kommande', 'dagar.'], ['till', 'dess', 'vill', 'jag', 'att', 'vi,', 'som', 'ett', 'antal', 'kolleger', 'begärt,', 'håller', 'en', 'tyst', 'minut', 'för', 'offren', 'för', 'bl.a.', 'stormarna', 'i', 'de', 'länder', 'i', 'europeiska', 'unionen', 'som', 'drabbats.'], ['jag', 'ber', 'er', 'resa', 'er', 'för', 'en', 'tyst', 'minut.'], ['(parlamentet', 'höll', 'en', 'tyst', 'minut.)'], ['fru', 'talman!', 'det', 'gäller', 'en', 'ordningsfråga.'], ['ni', 'känner', 'till', 'från', 'media', 'att', 'det', 'skett', 'en', 'rad', 'bombexplosioner', 'och', 'mord', 'i', 'sri', 'lanka.'], ['en', 'av', 'de', 'personer', 'som', 'mycket', 'nyligen', 'mördades', 'i', 'sri', 'lanka', 'var', 'kumar', 'ponnambalam,', 'som', 'besökte', 'europaparlamentet', 'för', 'bara', 'några', 'månader', 'sedan.']]\n"
     ]
    }
   ],
   "source": [
    "print(\"English: \", lower_split_eng.take(10))\n",
    "print(\"Swedish: \", lower_split_swe.take(10))"
   ]
  },
  {
   "cell_type": "code",
   "execution_count": 15,
   "id": "appointed-prototype",
   "metadata": {},
   "outputs": [
    {
     "name": "stdout",
     "output_type": "stream",
     "text": [
      "Total Number of Lines: \n",
      "English Transcript:  1862234 \n",
      "Swedish Transcript:  1862234\n"
     ]
    }
   ],
   "source": [
    "print('Total Number of Lines: \\nEnglish Transcript: ', lower_split_eng.count(), '\\nSwedish Transcript: ', lower_split_swe.count())"
   ]
  },
  {
   "cell_type": "markdown",
   "id": "logical-riding",
   "metadata": {},
   "source": [
    "Questions 1.A.3"
   ]
  },
  {
   "cell_type": "code",
   "execution_count": 79,
   "id": "fancy-notion",
   "metadata": {},
   "outputs": [
    {
     "name": "stdout",
     "output_type": "stream",
     "text": [
      "[('resumption', 1), ('i', 1), ('although,', 1), ('you', 1), ('in', 1), ('please', 1), ('(the', 1), ('madam', 1), ('you', 1), ('one', 1)]\n"
     ]
    }
   ],
   "source": [
    "#A.3.1\n",
    "\n",
    "from operator import add\n",
    "def wordcountMap(line):\n",
    "    for word in line:\n",
    "        return (word, 1)\n",
    "\n",
    "wordcount_mapstage_eng = lower_split_eng.map(wordcountMap)\n",
    "wordcount_mapstage_swe = lower_split_swe.map(wordcountMap)\n",
    "print(all_words_and_count.take(10))"
   ]
  },
  {
   "cell_type": "code",
   "execution_count": 80,
   "id": "identified-underwear",
   "metadata": {},
   "outputs": [
    {
     "data": {
      "text/plain": [
       "[('som', 17218),\n",
       " ('fru', 12122),\n",
       " ('ja,', 1319),\n",
       " ('det', 198923),\n",
       " ('under', 8440),\n",
       " ('tack,', 1302),\n",
       " ('nu', 6858),\n",
       " ('de', 34602),\n",
       " ('nästa', 5430),\n",
       " ('eftersom', 6159)]"
      ]
     },
     "execution_count": 80,
     "metadata": {},
     "output_type": "execute_result"
    }
   ],
   "source": [
    "wordcount_eng = wordcount_mapstage_eng.reduceByKey(add)\n",
    "wordcount_eng.take(10)\n",
    "\n",
    "wordcount_swe = wordcount_mapstage_swe.reduceByKey(add)\n",
    "wordcount_swe.take(10)"
   ]
  },
  {
   "cell_type": "code",
   "execution_count": 81,
   "id": "spanish-smoke",
   "metadata": {},
   "outputs": [
    {
     "name": "stdout",
     "output_type": "stream",
     "text": [
      "10 Most Common Words: English\n",
      "[('the', 235844), ('i', 201870), ('we', 129603), ('it', 105177), ('in', 91596), ('this', 82526), ('mr', 56025), ('that', 36863), ('as', 33289), ('\\xa0\\xa0', 30200)] \n",
      "\n",
      "10 Most Common Words: Swedish\n",
      "[('jag', 207086), ('det', 198923), ('vi', 133076), ('i', 66383), ('detta', 51184), ('för', 48686), ('herr', 46659), ('den', 43543), ('de', 34602), ('men', 30438)]\n"
     ]
    }
   ],
   "source": [
    "wordcount_eng_sorted = wordcount_eng.sortBy(ascending = False, keyfunc = lambda el: el[1]).take(10)\n",
    "print(\"10 Most Common Words: English\")\n",
    "print(wordcount_eng_sorted, '\\n')\n",
    "\n",
    "wordcount_swe_sorted = wordcount_swe.sortBy(ascending = False, keyfunc = lambda el: el[1]).take(10)\n",
    "print(\"10 Most Common Words: Swedish\")\n",
    "print(wordcount_swe_sorted)\n"
   ]
  }
 ],
 "metadata": {
  "kernelspec": {
   "display_name": "Python 3",
   "language": "python",
   "name": "python3"
  },
  "language_info": {
   "codemirror_mode": {
    "name": "ipython",
    "version": 3
   },
   "file_extension": ".py",
   "mimetype": "text/x-python",
   "name": "python",
   "nbconvert_exporter": "python",
   "pygments_lexer": "ipython3",
   "version": "3.8.5"
  }
 },
 "nbformat": 4,
 "nbformat_minor": 5
}
